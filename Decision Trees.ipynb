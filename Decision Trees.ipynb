{
 "cells": [
  {
   "cell_type": "code",
   "execution_count": 1,
   "metadata": {},
   "outputs": [],
   "source": [
    "import pandas as pd\n",
    "import numpy as np\n",
    "import matplotlib.pyplot as plt\n",
    "import seaborn as sns\n",
    "import math\n",
    "import sklearn\n",
    "\n",
    "from sklearn.ensemble import RandomForestClassifier\n",
    "from sklearn.model_selection import cross_val_score\n",
    "from sklearn.model_selection import train_test_split\n",
    " \n",
    "\n"
   ]
  },
  {
   "cell_type": "code",
   "execution_count": null,
   "metadata": {},
   "outputs": [],
   "source": [
    "train=pd.read_csv('Train_Data.csv')\n",
    "test=pd.read_csv(\"Test_Data.csv\")"
   ]
  },
  {
   "cell_type": "code",
   "execution_count": 3,
   "metadata": {},
   "outputs": [
    {
     "data": {
      "text/html": [
       "<div>\n",
       "<style scoped>\n",
       "    .dataframe tbody tr th:only-of-type {\n",
       "        vertical-align: middle;\n",
       "    }\n",
       "\n",
       "    .dataframe tbody tr th {\n",
       "        vertical-align: top;\n",
       "    }\n",
       "\n",
       "    .dataframe thead th {\n",
       "        text-align: right;\n",
       "    }\n",
       "</style>\n",
       "<table border=\"1\" class=\"dataframe\">\n",
       "  <thead>\n",
       "    <tr style=\"text-align: right;\">\n",
       "      <th></th>\n",
       "      <th>date</th>\n",
       "      <th>campaign</th>\n",
       "      <th>adgroup</th>\n",
       "      <th>ad</th>\n",
       "      <th>impressions</th>\n",
       "      <th>clicks</th>\n",
       "      <th>cost</th>\n",
       "      <th>conversions</th>\n",
       "      <th>revenue</th>\n",
       "    </tr>\n",
       "  </thead>\n",
       "  <tbody>\n",
       "    <tr>\n",
       "      <th>0</th>\n",
       "      <td>01-08-2020</td>\n",
       "      <td>campaign 1</td>\n",
       "      <td>adgroup 1</td>\n",
       "      <td>ad 1</td>\n",
       "      <td>24</td>\n",
       "      <td>6</td>\n",
       "      <td>0.08</td>\n",
       "      <td>0</td>\n",
       "      <td>0.00</td>\n",
       "    </tr>\n",
       "    <tr>\n",
       "      <th>1</th>\n",
       "      <td>01-08-2020</td>\n",
       "      <td>campaign 1</td>\n",
       "      <td>adgroup 2</td>\n",
       "      <td>ad 1</td>\n",
       "      <td>1</td>\n",
       "      <td>0</td>\n",
       "      <td>0.00</td>\n",
       "      <td>0</td>\n",
       "      <td>0.00</td>\n",
       "    </tr>\n",
       "    <tr>\n",
       "      <th>2</th>\n",
       "      <td>01-08-2020</td>\n",
       "      <td>campaign 1</td>\n",
       "      <td>adgroup 3</td>\n",
       "      <td>ad 1</td>\n",
       "      <td>13</td>\n",
       "      <td>4</td>\n",
       "      <td>0.04</td>\n",
       "      <td>0</td>\n",
       "      <td>0.00</td>\n",
       "    </tr>\n",
       "    <tr>\n",
       "      <th>3</th>\n",
       "      <td>01-08-2020</td>\n",
       "      <td>campaign 1</td>\n",
       "      <td>adgroup 4</td>\n",
       "      <td>ad 1</td>\n",
       "      <td>5</td>\n",
       "      <td>4</td>\n",
       "      <td>0.08</td>\n",
       "      <td>0</td>\n",
       "      <td>0.00</td>\n",
       "    </tr>\n",
       "    <tr>\n",
       "      <th>4</th>\n",
       "      <td>01-08-2020</td>\n",
       "      <td>campaign 1</td>\n",
       "      <td>adgroup 1</td>\n",
       "      <td>ad 2</td>\n",
       "      <td>247</td>\n",
       "      <td>126</td>\n",
       "      <td>1.29</td>\n",
       "      <td>4</td>\n",
       "      <td>925.71</td>\n",
       "    </tr>\n",
       "    <tr>\n",
       "      <th>5</th>\n",
       "      <td>01-08-2020</td>\n",
       "      <td>campaign 1</td>\n",
       "      <td>adgroup 2</td>\n",
       "      <td>ad 2</td>\n",
       "      <td>7</td>\n",
       "      <td>2</td>\n",
       "      <td>0.04</td>\n",
       "      <td>0</td>\n",
       "      <td>0.00</td>\n",
       "    </tr>\n",
       "    <tr>\n",
       "      <th>6</th>\n",
       "      <td>01-08-2020</td>\n",
       "      <td>campaign 1</td>\n",
       "      <td>adgroup 4</td>\n",
       "      <td>ad 2</td>\n",
       "      <td>6</td>\n",
       "      <td>3</td>\n",
       "      <td>0.05</td>\n",
       "      <td>0</td>\n",
       "      <td>0.00</td>\n",
       "    </tr>\n",
       "    <tr>\n",
       "      <th>7</th>\n",
       "      <td>01-08-2020</td>\n",
       "      <td>campaign 1</td>\n",
       "      <td>adgroup 1</td>\n",
       "      <td>ad 3</td>\n",
       "      <td>129</td>\n",
       "      <td>52</td>\n",
       "      <td>0.58</td>\n",
       "      <td>0</td>\n",
       "      <td>0.00</td>\n",
       "    </tr>\n",
       "    <tr>\n",
       "      <th>8</th>\n",
       "      <td>01-08-2020</td>\n",
       "      <td>campaign 1</td>\n",
       "      <td>adgroup 3</td>\n",
       "      <td>ad 3</td>\n",
       "      <td>104</td>\n",
       "      <td>56</td>\n",
       "      <td>0.56</td>\n",
       "      <td>0</td>\n",
       "      <td>0.00</td>\n",
       "    </tr>\n",
       "    <tr>\n",
       "      <th>9</th>\n",
       "      <td>01-08-2020</td>\n",
       "      <td>campaign 1</td>\n",
       "      <td>adgroup 4</td>\n",
       "      <td>ad 3</td>\n",
       "      <td>6</td>\n",
       "      <td>5</td>\n",
       "      <td>0.05</td>\n",
       "      <td>0</td>\n",
       "      <td>0.00</td>\n",
       "    </tr>\n",
       "  </tbody>\n",
       "</table>\n",
       "</div>"
      ],
      "text/plain": [
       "         date    campaign    adgroup    ad  impressions  clicks  cost  \\\n",
       "0  01-08-2020  campaign 1  adgroup 1  ad 1           24       6  0.08   \n",
       "1  01-08-2020  campaign 1  adgroup 2  ad 1            1       0  0.00   \n",
       "2  01-08-2020  campaign 1  adgroup 3  ad 1           13       4  0.04   \n",
       "3  01-08-2020  campaign 1  adgroup 4  ad 1            5       4  0.08   \n",
       "4  01-08-2020  campaign 1  adgroup 1  ad 2          247     126  1.29   \n",
       "5  01-08-2020  campaign 1  adgroup 2  ad 2            7       2  0.04   \n",
       "6  01-08-2020  campaign 1  adgroup 4  ad 2            6       3  0.05   \n",
       "7  01-08-2020  campaign 1  adgroup 1  ad 3          129      52  0.58   \n",
       "8  01-08-2020  campaign 1  adgroup 3  ad 3          104      56  0.56   \n",
       "9  01-08-2020  campaign 1  adgroup 4  ad 3            6       5  0.05   \n",
       "\n",
       "   conversions  revenue  \n",
       "0            0     0.00  \n",
       "1            0     0.00  \n",
       "2            0     0.00  \n",
       "3            0     0.00  \n",
       "4            4   925.71  \n",
       "5            0     0.00  \n",
       "6            0     0.00  \n",
       "7            0     0.00  \n",
       "8            0     0.00  \n",
       "9            0     0.00  "
      ]
     },
     "execution_count": 3,
     "metadata": {},
     "output_type": "execute_result"
    }
   ],
   "source": [
    "train.head(10)"
   ]
  },
  {
   "cell_type": "code",
   "execution_count": 4,
   "metadata": {},
   "outputs": [
    {
     "name": "stdout",
     "output_type": "stream",
     "text": [
      "<class 'pandas.core.frame.DataFrame'>\n",
      "RangeIndex: 4571 entries, 0 to 4570\n",
      "Data columns (total 9 columns):\n",
      " #   Column       Non-Null Count  Dtype  \n",
      "---  ------       --------------  -----  \n",
      " 0   date         4571 non-null   object \n",
      " 1   campaign     4571 non-null   object \n",
      " 2   adgroup      4571 non-null   object \n",
      " 3   ad           4571 non-null   object \n",
      " 4   impressions  4571 non-null   int64  \n",
      " 5   clicks       4571 non-null   int64  \n",
      " 6   cost         4571 non-null   float64\n",
      " 7   conversions  4571 non-null   int64  \n",
      " 8   revenue      4571 non-null   float64\n",
      "dtypes: float64(2), int64(3), object(4)\n",
      "memory usage: 250.0+ KB\n"
     ]
    }
   ],
   "source": [
    "train.info()"
   ]
  },
  {
   "cell_type": "code",
   "execution_count": 5,
   "metadata": {},
   "outputs": [
    {
     "data": {
      "text/html": [
       "<div>\n",
       "<style scoped>\n",
       "    .dataframe tbody tr th:only-of-type {\n",
       "        vertical-align: middle;\n",
       "    }\n",
       "\n",
       "    .dataframe tbody tr th {\n",
       "        vertical-align: top;\n",
       "    }\n",
       "\n",
       "    .dataframe thead th {\n",
       "        text-align: right;\n",
       "    }\n",
       "</style>\n",
       "<table border=\"1\" class=\"dataframe\">\n",
       "  <thead>\n",
       "    <tr style=\"text-align: right;\">\n",
       "      <th></th>\n",
       "      <th>date</th>\n",
       "      <th>campaign</th>\n",
       "      <th>adgroup</th>\n",
       "      <th>ad</th>\n",
       "      <th>impressions</th>\n",
       "      <th>clicks</th>\n",
       "      <th>cost</th>\n",
       "      <th>conversions</th>\n",
       "      <th>revenue</th>\n",
       "    </tr>\n",
       "  </thead>\n",
       "  <tbody>\n",
       "    <tr>\n",
       "      <th>count</th>\n",
       "      <td>4571</td>\n",
       "      <td>4571</td>\n",
       "      <td>4571</td>\n",
       "      <td>4571</td>\n",
       "      <td>4571.000000</td>\n",
       "      <td>4571.000000</td>\n",
       "      <td>4571.000000</td>\n",
       "      <td>4571.000000</td>\n",
       "      <td>4571.000000</td>\n",
       "    </tr>\n",
       "    <tr>\n",
       "      <th>unique</th>\n",
       "      <td>212</td>\n",
       "      <td>1</td>\n",
       "      <td>4</td>\n",
       "      <td>70</td>\n",
       "      <td>NaN</td>\n",
       "      <td>NaN</td>\n",
       "      <td>NaN</td>\n",
       "      <td>NaN</td>\n",
       "      <td>NaN</td>\n",
       "    </tr>\n",
       "    <tr>\n",
       "      <th>top</th>\n",
       "      <td>30-10-2020</td>\n",
       "      <td>campaign 1</td>\n",
       "      <td>adgroup 3</td>\n",
       "      <td>ad 3</td>\n",
       "      <td>NaN</td>\n",
       "      <td>NaN</td>\n",
       "      <td>NaN</td>\n",
       "      <td>NaN</td>\n",
       "      <td>NaN</td>\n",
       "    </tr>\n",
       "    <tr>\n",
       "      <th>freq</th>\n",
       "      <td>35</td>\n",
       "      <td>4571</td>\n",
       "      <td>1672</td>\n",
       "      <td>617</td>\n",
       "      <td>NaN</td>\n",
       "      <td>NaN</td>\n",
       "      <td>NaN</td>\n",
       "      <td>NaN</td>\n",
       "      <td>NaN</td>\n",
       "    </tr>\n",
       "    <tr>\n",
       "      <th>mean</th>\n",
       "      <td>NaN</td>\n",
       "      <td>NaN</td>\n",
       "      <td>NaN</td>\n",
       "      <td>NaN</td>\n",
       "      <td>92.635747</td>\n",
       "      <td>43.340844</td>\n",
       "      <td>2.800834</td>\n",
       "      <td>1.339094</td>\n",
       "      <td>231.865340</td>\n",
       "    </tr>\n",
       "    <tr>\n",
       "      <th>std</th>\n",
       "      <td>NaN</td>\n",
       "      <td>NaN</td>\n",
       "      <td>NaN</td>\n",
       "      <td>NaN</td>\n",
       "      <td>198.349737</td>\n",
       "      <td>100.164913</td>\n",
       "      <td>14.361618</td>\n",
       "      <td>5.223922</td>\n",
       "      <td>1091.742763</td>\n",
       "    </tr>\n",
       "    <tr>\n",
       "      <th>min</th>\n",
       "      <td>NaN</td>\n",
       "      <td>NaN</td>\n",
       "      <td>NaN</td>\n",
       "      <td>NaN</td>\n",
       "      <td>1.000000</td>\n",
       "      <td>0.000000</td>\n",
       "      <td>0.000000</td>\n",
       "      <td>0.000000</td>\n",
       "      <td>0.000000</td>\n",
       "    </tr>\n",
       "    <tr>\n",
       "      <th>25%</th>\n",
       "      <td>NaN</td>\n",
       "      <td>NaN</td>\n",
       "      <td>NaN</td>\n",
       "      <td>NaN</td>\n",
       "      <td>6.000000</td>\n",
       "      <td>2.000000</td>\n",
       "      <td>0.040000</td>\n",
       "      <td>0.000000</td>\n",
       "      <td>0.000000</td>\n",
       "    </tr>\n",
       "    <tr>\n",
       "      <th>50%</th>\n",
       "      <td>NaN</td>\n",
       "      <td>NaN</td>\n",
       "      <td>NaN</td>\n",
       "      <td>NaN</td>\n",
       "      <td>16.000000</td>\n",
       "      <td>7.000000</td>\n",
       "      <td>0.210000</td>\n",
       "      <td>0.000000</td>\n",
       "      <td>0.000000</td>\n",
       "    </tr>\n",
       "    <tr>\n",
       "      <th>75%</th>\n",
       "      <td>NaN</td>\n",
       "      <td>NaN</td>\n",
       "      <td>NaN</td>\n",
       "      <td>NaN</td>\n",
       "      <td>84.000000</td>\n",
       "      <td>38.000000</td>\n",
       "      <td>1.350000</td>\n",
       "      <td>1.000000</td>\n",
       "      <td>92.600000</td>\n",
       "    </tr>\n",
       "    <tr>\n",
       "      <th>max</th>\n",
       "      <td>NaN</td>\n",
       "      <td>NaN</td>\n",
       "      <td>NaN</td>\n",
       "      <td>NaN</td>\n",
       "      <td>3239.000000</td>\n",
       "      <td>1771.000000</td>\n",
       "      <td>531.250000</td>\n",
       "      <td>94.000000</td>\n",
       "      <td>20515.410000</td>\n",
       "    </tr>\n",
       "  </tbody>\n",
       "</table>\n",
       "</div>"
      ],
      "text/plain": [
       "              date    campaign    adgroup    ad  impressions       clicks  \\\n",
       "count         4571        4571       4571  4571  4571.000000  4571.000000   \n",
       "unique         212           1          4    70          NaN          NaN   \n",
       "top     30-10-2020  campaign 1  adgroup 3  ad 3          NaN          NaN   \n",
       "freq            35        4571       1672   617          NaN          NaN   \n",
       "mean           NaN         NaN        NaN   NaN    92.635747    43.340844   \n",
       "std            NaN         NaN        NaN   NaN   198.349737   100.164913   \n",
       "min            NaN         NaN        NaN   NaN     1.000000     0.000000   \n",
       "25%            NaN         NaN        NaN   NaN     6.000000     2.000000   \n",
       "50%            NaN         NaN        NaN   NaN    16.000000     7.000000   \n",
       "75%            NaN         NaN        NaN   NaN    84.000000    38.000000   \n",
       "max            NaN         NaN        NaN   NaN  3239.000000  1771.000000   \n",
       "\n",
       "               cost  conversions       revenue  \n",
       "count   4571.000000  4571.000000   4571.000000  \n",
       "unique          NaN          NaN           NaN  \n",
       "top             NaN          NaN           NaN  \n",
       "freq            NaN          NaN           NaN  \n",
       "mean       2.800834     1.339094    231.865340  \n",
       "std       14.361618     5.223922   1091.742763  \n",
       "min        0.000000     0.000000      0.000000  \n",
       "25%        0.040000     0.000000      0.000000  \n",
       "50%        0.210000     0.000000      0.000000  \n",
       "75%        1.350000     1.000000     92.600000  \n",
       "max      531.250000    94.000000  20515.410000  "
      ]
     },
     "execution_count": 5,
     "metadata": {},
     "output_type": "execute_result"
    }
   ],
   "source": [
    "train.describe(include =\"all\" )"
   ]
  },
  {
   "cell_type": "code",
   "execution_count": 6,
   "metadata": {},
   "outputs": [
    {
     "data": {
      "text/html": [
       "<div>\n",
       "<style scoped>\n",
       "    .dataframe tbody tr th:only-of-type {\n",
       "        vertical-align: middle;\n",
       "    }\n",
       "\n",
       "    .dataframe tbody tr th {\n",
       "        vertical-align: top;\n",
       "    }\n",
       "\n",
       "    .dataframe thead th {\n",
       "        text-align: right;\n",
       "    }\n",
       "</style>\n",
       "<table border=\"1\" class=\"dataframe\">\n",
       "  <thead>\n",
       "    <tr style=\"text-align: right;\">\n",
       "      <th></th>\n",
       "      <th>date</th>\n",
       "      <th>campaign</th>\n",
       "      <th>adgroup</th>\n",
       "      <th>ad</th>\n",
       "      <th>cost</th>\n",
       "      <th>impressions</th>\n",
       "      <th>clicks</th>\n",
       "      <th>conversions</th>\n",
       "    </tr>\n",
       "  </thead>\n",
       "  <tbody>\n",
       "    <tr>\n",
       "      <th>0</th>\n",
       "      <td>01-03-2021</td>\n",
       "      <td>campaign 1</td>\n",
       "      <td>adgroup 1</td>\n",
       "      <td>ad 1</td>\n",
       "      <td>0.58</td>\n",
       "      <td>121</td>\n",
       "      <td>49</td>\n",
       "      <td>1</td>\n",
       "    </tr>\n",
       "    <tr>\n",
       "      <th>1</th>\n",
       "      <td>01-03-2021</td>\n",
       "      <td>campaign 1</td>\n",
       "      <td>adgroup 3</td>\n",
       "      <td>ad 1</td>\n",
       "      <td>0.17</td>\n",
       "      <td>22</td>\n",
       "      <td>12</td>\n",
       "      <td>0</td>\n",
       "    </tr>\n",
       "    <tr>\n",
       "      <th>2</th>\n",
       "      <td>01-03-2021</td>\n",
       "      <td>campaign 1</td>\n",
       "      <td>adgroup 4</td>\n",
       "      <td>ad 1</td>\n",
       "      <td>0.05</td>\n",
       "      <td>5</td>\n",
       "      <td>3</td>\n",
       "      <td>0</td>\n",
       "    </tr>\n",
       "    <tr>\n",
       "      <th>3</th>\n",
       "      <td>01-03-2021</td>\n",
       "      <td>campaign 1</td>\n",
       "      <td>adgroup 2</td>\n",
       "      <td>ad 1</td>\n",
       "      <td>0.01</td>\n",
       "      <td>2</td>\n",
       "      <td>1</td>\n",
       "      <td>0</td>\n",
       "    </tr>\n",
       "    <tr>\n",
       "      <th>4</th>\n",
       "      <td>01-03-2021</td>\n",
       "      <td>campaign 1</td>\n",
       "      <td>adgroup 2</td>\n",
       "      <td>ad 2</td>\n",
       "      <td>0.01</td>\n",
       "      <td>3</td>\n",
       "      <td>1</td>\n",
       "      <td>0</td>\n",
       "    </tr>\n",
       "  </tbody>\n",
       "</table>\n",
       "</div>"
      ],
      "text/plain": [
       "         date    campaign    adgroup    ad  cost  impressions  clicks  \\\n",
       "0  01-03-2021  campaign 1  adgroup 1  ad 1  0.58          121      49   \n",
       "1  01-03-2021  campaign 1  adgroup 3  ad 1  0.17           22      12   \n",
       "2  01-03-2021  campaign 1  adgroup 4  ad 1  0.05            5       3   \n",
       "3  01-03-2021  campaign 1  adgroup 2  ad 1  0.01            2       1   \n",
       "4  01-03-2021  campaign 1  adgroup 2  ad 2  0.01            3       1   \n",
       "\n",
       "   conversions  \n",
       "0            1  \n",
       "1            0  \n",
       "2            0  \n",
       "3            0  \n",
       "4            0  "
      ]
     },
     "execution_count": 6,
     "metadata": {},
     "output_type": "execute_result"
    }
   ],
   "source": [
    "test.head()"
   ]
  },
  {
   "cell_type": "code",
   "execution_count": 7,
   "metadata": {},
   "outputs": [],
   "source": [
    "X=train.drop(columns=[\"date\",\"campaign\",\"adgroup\",\"ad\",\"revenue\"])"
   ]
  },
  {
   "cell_type": "code",
   "execution_count": 8,
   "metadata": {},
   "outputs": [],
   "source": [
    "y=train.revenue"
   ]
  },
  {
   "cell_type": "code",
   "execution_count": 9,
   "metadata": {},
   "outputs": [
    {
     "data": {
      "text/html": [
       "<div>\n",
       "<style scoped>\n",
       "    .dataframe tbody tr th:only-of-type {\n",
       "        vertical-align: middle;\n",
       "    }\n",
       "\n",
       "    .dataframe tbody tr th {\n",
       "        vertical-align: top;\n",
       "    }\n",
       "\n",
       "    .dataframe thead th {\n",
       "        text-align: right;\n",
       "    }\n",
       "</style>\n",
       "<table border=\"1\" class=\"dataframe\">\n",
       "  <thead>\n",
       "    <tr style=\"text-align: right;\">\n",
       "      <th></th>\n",
       "      <th>impressions</th>\n",
       "      <th>clicks</th>\n",
       "      <th>cost</th>\n",
       "      <th>conversions</th>\n",
       "    </tr>\n",
       "  </thead>\n",
       "  <tbody>\n",
       "    <tr>\n",
       "      <th>count</th>\n",
       "      <td>4571.000000</td>\n",
       "      <td>4571.000000</td>\n",
       "      <td>4571.000000</td>\n",
       "      <td>4571.000000</td>\n",
       "    </tr>\n",
       "    <tr>\n",
       "      <th>mean</th>\n",
       "      <td>92.635747</td>\n",
       "      <td>43.340844</td>\n",
       "      <td>2.800834</td>\n",
       "      <td>1.339094</td>\n",
       "    </tr>\n",
       "    <tr>\n",
       "      <th>std</th>\n",
       "      <td>198.349737</td>\n",
       "      <td>100.164913</td>\n",
       "      <td>14.361618</td>\n",
       "      <td>5.223922</td>\n",
       "    </tr>\n",
       "    <tr>\n",
       "      <th>min</th>\n",
       "      <td>1.000000</td>\n",
       "      <td>0.000000</td>\n",
       "      <td>0.000000</td>\n",
       "      <td>0.000000</td>\n",
       "    </tr>\n",
       "    <tr>\n",
       "      <th>25%</th>\n",
       "      <td>6.000000</td>\n",
       "      <td>2.000000</td>\n",
       "      <td>0.040000</td>\n",
       "      <td>0.000000</td>\n",
       "    </tr>\n",
       "    <tr>\n",
       "      <th>50%</th>\n",
       "      <td>16.000000</td>\n",
       "      <td>7.000000</td>\n",
       "      <td>0.210000</td>\n",
       "      <td>0.000000</td>\n",
       "    </tr>\n",
       "    <tr>\n",
       "      <th>75%</th>\n",
       "      <td>84.000000</td>\n",
       "      <td>38.000000</td>\n",
       "      <td>1.350000</td>\n",
       "      <td>1.000000</td>\n",
       "    </tr>\n",
       "    <tr>\n",
       "      <th>max</th>\n",
       "      <td>3239.000000</td>\n",
       "      <td>1771.000000</td>\n",
       "      <td>531.250000</td>\n",
       "      <td>94.000000</td>\n",
       "    </tr>\n",
       "  </tbody>\n",
       "</table>\n",
       "</div>"
      ],
      "text/plain": [
       "       impressions       clicks         cost  conversions\n",
       "count  4571.000000  4571.000000  4571.000000  4571.000000\n",
       "mean     92.635747    43.340844     2.800834     1.339094\n",
       "std     198.349737   100.164913    14.361618     5.223922\n",
       "min       1.000000     0.000000     0.000000     0.000000\n",
       "25%       6.000000     2.000000     0.040000     0.000000\n",
       "50%      16.000000     7.000000     0.210000     0.000000\n",
       "75%      84.000000    38.000000     1.350000     1.000000\n",
       "max    3239.000000  1771.000000   531.250000    94.000000"
      ]
     },
     "execution_count": 9,
     "metadata": {},
     "output_type": "execute_result"
    }
   ],
   "source": [
    "X.describe()"
   ]
  },
  {
   "cell_type": "code",
   "execution_count": 10,
   "metadata": {},
   "outputs": [
    {
     "data": {
      "text/html": [
       "<div>\n",
       "<style scoped>\n",
       "    .dataframe tbody tr th:only-of-type {\n",
       "        vertical-align: middle;\n",
       "    }\n",
       "\n",
       "    .dataframe tbody tr th {\n",
       "        vertical-align: top;\n",
       "    }\n",
       "\n",
       "    .dataframe thead th {\n",
       "        text-align: right;\n",
       "    }\n",
       "</style>\n",
       "<table border=\"1\" class=\"dataframe\">\n",
       "  <thead>\n",
       "    <tr style=\"text-align: right;\">\n",
       "      <th></th>\n",
       "      <th>impressions</th>\n",
       "      <th>clicks</th>\n",
       "      <th>cost</th>\n",
       "      <th>conversions</th>\n",
       "    </tr>\n",
       "  </thead>\n",
       "  <tbody>\n",
       "    <tr>\n",
       "      <th>0</th>\n",
       "      <td>24</td>\n",
       "      <td>6</td>\n",
       "      <td>0.08</td>\n",
       "      <td>0</td>\n",
       "    </tr>\n",
       "    <tr>\n",
       "      <th>1</th>\n",
       "      <td>1</td>\n",
       "      <td>0</td>\n",
       "      <td>0.00</td>\n",
       "      <td>0</td>\n",
       "    </tr>\n",
       "    <tr>\n",
       "      <th>2</th>\n",
       "      <td>13</td>\n",
       "      <td>4</td>\n",
       "      <td>0.04</td>\n",
       "      <td>0</td>\n",
       "    </tr>\n",
       "    <tr>\n",
       "      <th>3</th>\n",
       "      <td>5</td>\n",
       "      <td>4</td>\n",
       "      <td>0.08</td>\n",
       "      <td>0</td>\n",
       "    </tr>\n",
       "    <tr>\n",
       "      <th>4</th>\n",
       "      <td>247</td>\n",
       "      <td>126</td>\n",
       "      <td>1.29</td>\n",
       "      <td>4</td>\n",
       "    </tr>\n",
       "  </tbody>\n",
       "</table>\n",
       "</div>"
      ],
      "text/plain": [
       "   impressions  clicks  cost  conversions\n",
       "0           24       6  0.08            0\n",
       "1            1       0  0.00            0\n",
       "2           13       4  0.04            0\n",
       "3            5       4  0.08            0\n",
       "4          247     126  1.29            4"
      ]
     },
     "execution_count": 10,
     "metadata": {},
     "output_type": "execute_result"
    }
   ],
   "source": [
    "X.head()"
   ]
  },
  {
   "cell_type": "code",
   "execution_count": 11,
   "metadata": {},
   "outputs": [
    {
     "data": {
      "text/plain": [
       "0      0.00\n",
       "1      0.00\n",
       "2      0.00\n",
       "3      0.00\n",
       "4    925.71\n",
       "Name: revenue, dtype: float64"
      ]
     },
     "execution_count": 11,
     "metadata": {},
     "output_type": "execute_result"
    }
   ],
   "source": [
    "y.head()"
   ]
  },
  {
   "cell_type": "code",
   "execution_count": null,
   "metadata": {},
   "outputs": [],
   "source": []
  },
  {
   "cell_type": "code",
   "execution_count": 12,
   "metadata": {},
   "outputs": [
    {
     "data": {
      "text/plain": [
       "(4571, 4)"
      ]
     },
     "execution_count": 12,
     "metadata": {},
     "output_type": "execute_result"
    }
   ],
   "source": [
    "X.shape"
   ]
  },
  {
   "cell_type": "code",
   "execution_count": 13,
   "metadata": {},
   "outputs": [],
   "source": [
    " train_X , val_X , train_y , val_y = train_test_split(X,y, random_state=1)"
   ]
  },
  {
   "cell_type": "code",
   "execution_count": 15,
   "metadata": {},
   "outputs": [],
   "source": [
    "from sklearn.tree import DecisionTreeRegressor\n",
    "iowa_model=DecisionTreeRegressor(random_state=1)"
   ]
  },
  {
   "cell_type": "code",
   "execution_count": 16,
   "metadata": {},
   "outputs": [
    {
     "data": {
      "text/plain": [
       "DecisionTreeRegressor(random_state=1)"
      ]
     },
     "execution_count": 16,
     "metadata": {},
     "output_type": "execute_result"
    }
   ],
   "source": [
    "iowa_model.fit(train_X,train_y)"
   ]
  },
  {
   "cell_type": "code",
   "execution_count": 18,
   "metadata": {},
   "outputs": [],
   "source": [
    "val_predictions= iowa_model.predict(val_X)"
   ]
  },
  {
   "cell_type": "code",
   "execution_count": 19,
   "metadata": {},
   "outputs": [],
   "source": [
    "from sklearn.metrics import mean_squared_error\n",
    "val_rms= mean_squared_error(val_predictions,val_y)"
   ]
  },
  {
   "cell_type": "code",
   "execution_count": 21,
   "metadata": {},
   "outputs": [
    {
     "name": "stdout",
     "output_type": "stream",
     "text": [
      "Validation MAE when not specifying max_leaf_nodes: 129,606\n"
     ]
    }
   ],
   "source": [
    "print(\"Validation MAE when not specifying max_leaf_nodes: {:,.0f}\".format(val_rms))\n"
   ]
  },
  {
   "cell_type": "code",
   "execution_count": null,
   "metadata": {},
   "outputs": [],
   "source": []
  },
  {
   "cell_type": "code",
   "execution_count": 22,
   "metadata": {},
   "outputs": [
    {
     "name": "stdout",
     "output_type": "stream",
     "text": [
      "129606.21863945755\n"
     ]
    }
   ],
   "source": [
    "print(val_rms)"
   ]
  },
  {
   "cell_type": "code",
   "execution_count": 24,
   "metadata": {},
   "outputs": [
    {
     "name": "stdout",
     "output_type": "stream",
     "text": [
      "Validation MAE for best value of max_leaf_nodes: 129,293\n"
     ]
    }
   ],
   "source": [
    "iowa_model = DecisionTreeRegressor(max_leaf_nodes=129606, random_state=1)\n",
    "iowa_model.fit(train_X, train_y)\n",
    "val_predictions = iowa_model.predict(val_X)\n",
    "val_mae = mean_squared_error(val_predictions, val_y)\n",
    "print(\"Validation MAE for best value of max_leaf_nodes: {:,.0f}\".format(val_mae))"
   ]
  },
  {
   "cell_type": "code",
   "execution_count": 25,
   "metadata": {},
   "outputs": [
    {
     "data": {
      "text/plain": [
       "DecisionTreeRegressor(max_leaf_nodes=129606, random_state=1)"
      ]
     },
     "execution_count": 25,
     "metadata": {},
     "output_type": "execute_result"
    }
   ],
   "source": [
    "iowa_model.fit(X,y)"
   ]
  },
  {
   "cell_type": "code",
   "execution_count": null,
   "metadata": {},
   "outputs": [],
   "source": [
    " "
   ]
  },
  {
   "cell_type": "code",
   "execution_count": 26,
   "metadata": {},
   "outputs": [],
   "source": [
    "predicto =iowa_model.predict(X)"
   ]
  },
  {
   "cell_type": "code",
   "execution_count": 27,
   "metadata": {},
   "outputs": [],
   "source": [
    "val_predicto=mean_squared_error(predicto,y)"
   ]
  },
  {
   "cell_type": "code",
   "execution_count": 28,
   "metadata": {},
   "outputs": [
    {
     "name": "stdout",
     "output_type": "stream",
     "text": [
      "13.16910515569168\n"
     ]
    }
   ],
   "source": [
    "print(val_predicto)"
   ]
  },
  {
   "cell_type": "code",
   "execution_count": 29,
   "metadata": {},
   "outputs": [],
   "source": [
    "Xx=test.drop(columns=[\"date\",\"campaign\",\"adgroup\",\"ad\" ])"
   ]
  },
  {
   "cell_type": "code",
   "execution_count": 30,
   "metadata": {},
   "outputs": [
    {
     "data": {
      "text/html": [
       "<div>\n",
       "<style scoped>\n",
       "    .dataframe tbody tr th:only-of-type {\n",
       "        vertical-align: middle;\n",
       "    }\n",
       "\n",
       "    .dataframe tbody tr th {\n",
       "        vertical-align: top;\n",
       "    }\n",
       "\n",
       "    .dataframe thead th {\n",
       "        text-align: right;\n",
       "    }\n",
       "</style>\n",
       "<table border=\"1\" class=\"dataframe\">\n",
       "  <thead>\n",
       "    <tr style=\"text-align: right;\">\n",
       "      <th></th>\n",
       "      <th>cost</th>\n",
       "      <th>impressions</th>\n",
       "      <th>clicks</th>\n",
       "      <th>conversions</th>\n",
       "    </tr>\n",
       "  </thead>\n",
       "  <tbody>\n",
       "    <tr>\n",
       "      <th>0</th>\n",
       "      <td>0.58</td>\n",
       "      <td>121</td>\n",
       "      <td>49</td>\n",
       "      <td>1</td>\n",
       "    </tr>\n",
       "    <tr>\n",
       "      <th>1</th>\n",
       "      <td>0.17</td>\n",
       "      <td>22</td>\n",
       "      <td>12</td>\n",
       "      <td>0</td>\n",
       "    </tr>\n",
       "    <tr>\n",
       "      <th>2</th>\n",
       "      <td>0.05</td>\n",
       "      <td>5</td>\n",
       "      <td>3</td>\n",
       "      <td>0</td>\n",
       "    </tr>\n",
       "    <tr>\n",
       "      <th>3</th>\n",
       "      <td>0.01</td>\n",
       "      <td>2</td>\n",
       "      <td>1</td>\n",
       "      <td>0</td>\n",
       "    </tr>\n",
       "    <tr>\n",
       "      <th>4</th>\n",
       "      <td>0.01</td>\n",
       "      <td>3</td>\n",
       "      <td>1</td>\n",
       "      <td>0</td>\n",
       "    </tr>\n",
       "  </tbody>\n",
       "</table>\n",
       "</div>"
      ],
      "text/plain": [
       "   cost  impressions  clicks  conversions\n",
       "0  0.58          121      49            1\n",
       "1  0.17           22      12            0\n",
       "2  0.05            5       3            0\n",
       "3  0.01            2       1            0\n",
       "4  0.01            3       1            0"
      ]
     },
     "execution_count": 30,
     "metadata": {},
     "output_type": "execute_result"
    }
   ],
   "source": [
    "Xx.head()"
   ]
  },
  {
   "cell_type": "code",
   "execution_count": 36,
   "metadata": {},
   "outputs": [],
   "source": [
    "fina_prediction=iowa_model.predict(Xx)"
   ]
  },
  {
   "cell_type": "code",
   "execution_count": 37,
   "metadata": {},
   "outputs": [
    {
     "name": "stdout",
     "output_type": "stream",
     "text": [
      "[ 174.18    0.      0.      0.      0.      0.    174.18    0.    174.18\n",
      "    0.   1328.43    0.      0.    250.4     0.    174.18    0.    174.18\n",
      "    0.    174.18    0.      0.      0.   1328.43    0.      0.    947.23\n",
      "  174.18    0.      0.    718.58    0.   1421.59  537.1   100.8     0.\n",
      "  174.18    0.      0.      0.      0.      0.      0.      0.      0.\n",
      "    0.      0.      0.      0.      0.      0.      0.      0.    250.4\n",
      "  174.18   56.      0.      0.      0.    740.      0.    250.4     0.\n",
      "  250.4     0.      0.   1328.43  174.18    0.      0.    250.4     0.\n",
      "    0.      0.    174.18  174.18  947.23    0.      0.      0.   1328.43\n",
      "  212.      0.    174.18    0.      0.    947.23 1485.51    0.    250.4\n",
      "  283.    284.03    0.   1619.95  174.18    0.      0.      0.      0.\n",
      "    0.    174.18    0.      0.    174.18    0.   3206.11    0.    283.\n",
      "    0.    174.18    0.    947.23    0.    537.1     0.   1996.47    0.\n",
      " 3206.11 1328.43  174.18    0.      0.   1328.43    0.      0.      0.\n",
      " 1328.43    0.    174.18  174.18    0.      0.      0.      0.    947.23\n",
      "    0.      0.      0.   1328.43    0.    174.18    0.      0.      0.\n",
      "  100.8     0.      0.    847.72  749.62    0.      0.      0.    947.23\n",
      "    0.    250.4     0.    947.23    0.      0.      0.    174.18    0.\n",
      "    0.      0.    250.4     0.    284.03    0.      0.      0.      0.\n",
      "    0.      0.    174.18    0.      0.      0.      0.    250.4   212.\n",
      "    0.      0.      0.    174.18    0.      0.    174.18    0.    174.18\n",
      "    0.      0.    100.8     0.      0.      0.      0.      0.      0.\n",
      "    0.    174.18  197.68    0.    250.4     0.      0.      0.    174.18\n",
      "    0.      0.   1328.43    0.      0.      0.    174.18  284.03    0.\n",
      "    0.      0.      0.    284.03    0.      0.      0.      0.      0.\n",
      "  947.23    0.      0.    174.18    0.    250.4     0.      0.      0.\n",
      "    0.      0.      0.    174.18    0.      0.      0.      0.      0.\n",
      "    0.      0.    100.8     0.      0.      0.      0.   1328.43  250.4\n",
      "    0.   1328.43    0.    174.18    0.      0.    100.8   100.8     0.\n",
      "  250.4     0.      0.      0.      0.      0.      0.      0.      0.\n",
      "  283.      0.      0.    947.23    0.      0.      0.    250.4   174.18\n",
      "    0.      0.      0.      0.      0.    284.03    0.    174.18    0.\n",
      "    0.      0.      0.    174.18    0.      0.    174.18    0.      0.\n",
      "  174.18    0.      0.      0.      0.    947.23    0.      0.      0.\n",
      " 1421.59    0.      0.    284.03  174.18  100.8     0.      0.      0.\n",
      "    0.      0.    174.18]\n"
     ]
    }
   ],
   "source": [
    "print(fina_prediction)"
   ]
  },
  {
   "cell_type": "code",
   "execution_count": 40,
   "metadata": {},
   "outputs": [],
   "source": [
    "output=pd.DataFrame({\"revenue\":fina_prediction})\n"
   ]
  },
  {
   "cell_type": "code",
   "execution_count": 41,
   "metadata": {},
   "outputs": [],
   "source": [
    " output.to_csv('submission.csv', index=False)\n",
    " "
   ]
  },
  {
   "cell_type": "code",
   "execution_count": 44,
   "metadata": {},
   "outputs": [],
   "source": [
    "import base64\n",
    "import pandas as pd\n",
    "from IPython.display import HTML\n",
    "\n",
    "def create_download_link( df, title = \"Download CSV file\", filename = \"data.csv\"):\n",
    "    csv = df.to_csv()\n",
    "    b64 = base64.b64encode(csv.encode())\n",
    "    payload = b64.decode()\n",
    "    html = '<a download=\"{filename}\" href=\"data:text/csv;base64,{payload}\" target=\"_blank\">{title}</a>'\n",
    "    html = html.format(payload=payload,title=title,filename=filename)\n",
    "    return HTML(html)\n",
    "\n"
   ]
  },
  {
   "cell_type": "code",
   "execution_count": 45,
   "metadata": {},
   "outputs": [
    {
     "data": {
      "text/html": [
       "<a download=\"data.csv\" href=\"data:text/csv;base64,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\" target=\"_blank\">Download CSV file</a>"
      ],
      "text/plain": [
       "<IPython.core.display.HTML object>"
      ]
     },
     "execution_count": 45,
     "metadata": {},
     "output_type": "execute_result"
    }
   ],
   "source": [
    "\n",
    " create_download_link(output)"
   ]
  },
  {
   "cell_type": "code",
   "execution_count": null,
   "metadata": {},
   "outputs": [],
   "source": []
  }
 ],
 "metadata": {
  "kernelspec": {
   "display_name": "Python 3",
   "language": "python",
   "name": "python3"
  },
  "language_info": {
   "codemirror_mode": {
    "name": "ipython",
    "version": 3
   },
   "file_extension": ".py",
   "mimetype": "text/x-python",
   "name": "python",
   "nbconvert_exporter": "python",
   "pygments_lexer": "ipython3",
   "version": "3.8.1"
  }
 },
 "nbformat": 4,
 "nbformat_minor": 4
}
