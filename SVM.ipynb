{
 "cells": [
  {
   "cell_type": "code",
   "execution_count": 26,
   "metadata": {},
   "outputs": [],
   "source": [
    "import pandas as pd\n",
    "import numpy as np\n",
    "import matplotlib.pyplot as plt\n",
    "import seaborn as sns\n",
    "import math\n",
    "import sklearn\n",
    "\n",
    "from sklearn.ensemble import RandomForestClassifier\n",
    "from sklearn.model_selection import cross_val_score\n",
    "from sklearn.model_selection import train_test_split\n",
    " \n",
    "\n"
   ]
  },
  {
   "cell_type": "code",
   "execution_count": 27,
   "metadata": {},
   "outputs": [
    {
     "name": "stdout",
     "output_type": "stream",
     "text": [
      "The autoreload extension is already loaded. To reload it, use:\n",
      "  %reload_ext autoreload\n"
     ]
    }
   ],
   "source": [
    "%load_ext autoreload\n",
    "%autoreload 2\n",
    "\n",
    "%matplotlib inline\n",
    "\n",
    "import pandas as pd\n",
    "import numpy as np\n",
    "import matplotlib.pyplot as plt\n",
    "import seaborn as sns\n",
    "import math\n",
    "import matplotlib as mpl\n",
    "\n",
    "from sklearn.ensemble import RandomForestClassifier\n",
    "from sklearn.model_selection import cross_val_score\n",
    "# from xgboost import XGBClassifier\n",
    "from sklearn.ensemble import ExtraTreesClassifier, AdaBoostClassifier\n",
    "from sklearn.linear_model import LogisticRegression \n",
    "from sklearn.neighbors import KNeighborsClassifier\n",
    "from sklearn.svm import LinearSVC\n",
    "# from lightgbm import LGBMClassifier\n",
    "# from catboost import CatBoostClassifier\n",
    "from sklearn.tree import DecisionTreeClassifier\n",
    "from sklearn.model_selection import StratifiedKFold, learning_curve, ShuffleSplit\n",
    "from sklearn.preprocessing import StandardScaler\n",
    "from sklearn.pipeline import Pipeline\n",
    "from sklearn.ensemble import VotingClassifier, IsolationForest\n",
    "from sklearn.model_selection import train_test_split\n",
    "from sklearn.metrics import f1_score\n",
    "from sklearn.neural_network import MLPClassifier\n",
    "from sklearn.naive_bayes import BernoulliNB\n",
    "from sklearn.metrics import confusion_matrix\n",
    "\n",
    "plt.style.use('seaborn-whitegrid')\n",
    "plt.rcParams['lines.linewidth'] = 2\n",
    "plt.rcParams['font.sans-serif'] = 'Arial'\n",
    "plt.rcParams['text.color'] = 'black'\n",
    "plt.rcParams['axes.labelcolor']= 'black'\n",
    "plt.rcParams['xtick.color'] = 'black'\n",
    "plt.rcParams['ytick.color'] = 'black'\n",
    "plt.rcParams['font.size']=12"
   ]
  },
  {
   "cell_type": "code",
   "execution_count": 28,
   "metadata": {},
   "outputs": [],
   "source": [
    "train=pd.read_csv('Train_Data.csv')\n",
    "test=pd.read_csv(\"Test_Data.csv\")\n"
   ]
  },
  {
   "cell_type": "code",
   "execution_count": 29,
   "metadata": {},
   "outputs": [],
   "source": [
    "X=train.drop(columns=[\"date\",\"campaign\",\"adgroup\",\"ad\",\"revenue\"])\n",
    "y=train.revenue"
   ]
  },
  {
   "cell_type": "code",
   "execution_count": 30,
   "metadata": {},
   "outputs": [
    {
     "data": {
      "text/plain": [
       "1"
      ]
     },
     "execution_count": 30,
     "metadata": {},
     "output_type": "execute_result"
    }
   ],
   "source": [
    "train.duplicated().sum()"
   ]
  },
  {
   "cell_type": "code",
   "execution_count": 31,
   "metadata": {},
   "outputs": [],
   "source": [
    "train.drop_duplicates(inplace=True)"
   ]
  },
  {
   "cell_type": "raw",
   "metadata": {},
   "source": []
  },
  {
   "cell_type": "code",
   "execution_count": 32,
   "metadata": {},
   "outputs": [
    {
     "data": {
      "text/plain": [
       "0"
      ]
     },
     "execution_count": 32,
     "metadata": {},
     "output_type": "execute_result"
    }
   ],
   "source": [
    "train.duplicated().sum()"
   ]
  },
  {
   "cell_type": "code",
   "execution_count": 33,
   "metadata": {},
   "outputs": [],
   "source": [
    " train_X , val_X , train_y , val_y = train_test_split(X,y, random_state=2)"
   ]
  },
  {
   "cell_type": "code",
   "execution_count": 34,
   "metadata": {},
   "outputs": [],
   "source": [
    "from sklearn import    svm\n",
    "iowa_model = svm.SVR()\n"
   ]
  },
  {
   "cell_type": "code",
   "execution_count": 35,
   "metadata": {},
   "outputs": [
    {
     "data": {
      "text/plain": [
       "SVR()"
      ]
     },
     "execution_count": 35,
     "metadata": {},
     "output_type": "execute_result"
    }
   ],
   "source": [
    "iowa_model.fit(train_X,train_y)"
   ]
  },
  {
   "cell_type": "code",
   "execution_count": 36,
   "metadata": {},
   "outputs": [],
   "source": [
    "val_predictions= iowa_model.predict(val_X)"
   ]
  },
  {
   "cell_type": "code",
   "execution_count": 37,
   "metadata": {},
   "outputs": [],
   "source": [
    "from sklearn.metrics import mean_squared_error\n",
    "val_rms= mean_squared_error(val_predictions,val_y)"
   ]
  },
  {
   "cell_type": "code",
   "execution_count": 38,
   "metadata": {},
   "outputs": [
    {
     "name": "stdout",
     "output_type": "stream",
     "text": [
      "1148420.494135321\n"
     ]
    }
   ],
   "source": [
    "print(val_rms)"
   ]
  },
  {
   "cell_type": "code",
   "execution_count": 39,
   "metadata": {},
   "outputs": [
    {
     "name": "stdout",
     "output_type": "stream",
     "text": [
      "1139085.9413624583\n"
     ]
    }
   ],
   "source": [
    "iowa_model.fit(X,y)\n",
    "predicto =iowa_model.predict(X)\n",
    "val_predicto=mean_squared_error(predicto,y)\n",
    "print(val_predicto)"
   ]
  },
  {
   "cell_type": "code",
   "execution_count": 40,
   "metadata": {},
   "outputs": [],
   "source": [
    "Xx=test.drop(columns=[\"date\",\"campaign\",\"adgroup\",\"ad\" ])"
   ]
  },
  {
   "cell_type": "code",
   "execution_count": 41,
   "metadata": {},
   "outputs": [],
   "source": [
    "fina_prediction=iowa_model.predict(Xx)"
   ]
  },
  {
   "cell_type": "code",
   "execution_count": 42,
   "metadata": {},
   "outputs": [
    {
     "name": "stdout",
     "output_type": "stream",
     "text": [
      "[ 70.59022482   3.01014286   0.39174089   0.29835298   0.30934323\n",
      "   0.34095024 213.63878027   0.39832879 116.27252624   0.50163991\n",
      " 219.90960459   3.24891843   1.41263362 110.81598335   0.32120646\n",
      "  42.88390069   3.65493676 143.43940424   3.66413314   4.99262259\n",
      "   0.32754375  62.54903067   0.32120646 216.64491648   0.29466727\n",
      "   0.34200175 223.50443501 153.90328393   0.51394307   0.2958529\n",
      "   6.17297191   0.95026301 112.88516207  52.391341     3.15733946\n",
      "   0.41084151 130.80073698   4.44846941   0.2958529    0.46015636\n",
      "   1.23688523   9.12895683   0.29466727  11.41287265  24.31240178\n",
      "   0.29605951   0.48228287   0.32014717   2.74622806   2.14166715\n",
      "   0.29466727   0.68257718  10.41826259  83.56041779 139.73736869\n",
      "   0.40641337   0.29713564   0.39991903   0.30404971 233.40599696\n",
      "   0.30934323  84.15531883   0.29728447 227.12015006   0.43316015\n",
      "  43.31569147 203.7792764  241.14356014   0.29713564   0.6118887\n",
      " 209.26638477   0.29835298   0.31908894   0.2958529  127.11592969\n",
      "  24.748027   205.19055403   0.29835298  74.02794912   1.17931332\n",
      " 185.30354564   0.34140023   8.64466444  23.96502745   0.72403789\n",
      "   0.42390039 245.72798995 254.62810992   0.29466727  89.00582203\n",
      "  23.46826555   2.84080283  16.05639875  13.51931865  31.6678605\n",
      "   0.29605951   0.29466727   0.29466727  58.69554355   0.36064548\n",
      "  66.9956827    0.29713564   0.42232347 257.22178361   0.393824\n",
      " 257.51950876   0.36322545  31.29220035   0.32905439  78.18888304\n",
      "   0.30681138  79.41826341   1.10930707  63.2265444    1.10930707\n",
      " 257.52674627   1.22580816 257.546813   104.19426668  30.48330356\n",
      "   0.393824     0.32014717 110.16043409   0.33010742   0.66213942\n",
      "   0.29466727 208.2314846    0.3725706  229.39417351 138.45605675\n",
      "   0.32905439   0.32905439   1.2277307    1.01986171 128.58848406\n",
      "   2.81250682   6.78334173   0.95124353 159.96987122   0.2958529\n",
      "  11.77870701   0.29466727   1.62031153   0.29713564   4.92745901\n",
      "   0.29713564   0.6435827   19.9141128   58.05034753   0.85642482\n",
      "   0.37152696   0.30681138 153.54775434   0.39832879 163.91803915\n",
      "   0.34095024 178.08000748   0.52188178   1.85612292   0.85800352\n",
      "  96.89256556   0.29466727   5.15114553   3.4017466  128.03190637\n",
      "   0.29466727  11.60861881   3.32355794   0.29713564   4.36326976\n",
      "   1.1392256    0.29466727  31.35045915  52.94031622   0.29466727\n",
      "   1.4796393    0.2958529    0.30828242 122.88330847   0.35139987\n",
      "   0.41187615 120.55447907   0.29466727 190.42951      3.54780876\n",
      "   3.58263562  68.80116708   4.38256261   8.46211973   0.30934323\n",
      " 123.68037012   5.25055247  19.12629549   1.61749173   3.89793662\n",
      "   1.30832775   0.29466727   0.29466727   2.00309262  38.71137191\n",
      "   0.65730415   0.32120646 165.80250084   0.37186482   0.2958529\n",
      " 141.25683696 212.43118145   4.21707381   4.13007501  82.66395614\n",
      "   0.30911783   4.91932679   4.89147783 112.71467142   6.8791293\n",
      "   0.30893579  22.90760926   1.167001     1.96520249   5.14230418\n",
      "   0.30681138   1.55780899  44.50233156   0.29713564   0.39278192\n",
      " 139.85591562   0.31018482   0.33010742 180.64674526   0.29605951\n",
      " 142.72052851   3.00126488   3.24282247  69.19548128   1.35586189\n",
      "   1.7409684    0.32905439 128.45432342  10.89487716  22.912751\n",
      "   0.2958529    0.46199555   5.00168446   1.55142165   0.30681138\n",
      "   2.06920343   0.29605951  28.90219448   0.34095024   0.29466727\n",
      "  91.97589564 210.61501095   0.393824   175.10585414   0.32905439\n",
      "   7.43496625   3.77058981  30.682857     2.56759102   5.19630841\n",
      "   0.30828242 125.46555788   6.91883413  20.98333965   0.32905439\n",
      "   1.96245185   4.92013159   0.42440337   0.30681138   0.393824\n",
      "  34.51724286   0.29466727   1.69846273  95.38395236   0.32120646\n",
      "   0.32014717   0.42903416 189.22179388 233.55879763   0.393824\n",
      "   2.02387297   1.78398882  62.25324102   0.2958529    3.28132957\n",
      "   4.99929115 115.88700051   8.28092066   0.29466727   1.44523732\n",
      "   1.16893933  11.62544984   4.44683635   0.30911783  53.88945387\n",
      "   2.32775004   0.31018482 125.62154965   0.29835298   0.30681138\n",
      "   0.29713564   0.34134207 207.50903362 134.45923006   4.36641618\n",
      "   2.09602946 104.96118683   2.72618007   0.48433404   8.49792231\n",
      "  94.07094742   5.85910436   0.29466727   0.29713564   0.36064548\n",
      "   3.55121049   0.64257554  23.7662248 ]\n"
     ]
    }
   ],
   "source": [
    "print(fina_prediction)"
   ]
  },
  {
   "cell_type": "code",
   "execution_count": 43,
   "metadata": {},
   "outputs": [],
   "source": [
    "output=pd.DataFrame({\"revenue\":fina_prediction})"
   ]
  },
  {
   "cell_type": "code",
   "execution_count": 44,
   "metadata": {},
   "outputs": [],
   "source": [
    " output.to_csv('submission.csv', index=False)\n"
   ]
  },
  {
   "cell_type": "code",
   "execution_count": 45,
   "metadata": {},
   "outputs": [],
   "source": [
    "import base64\n",
    "import pandas as pd\n",
    "from IPython.display import HTML\n",
    "\n",
    "def create_download_link( df, title = \"Download CSV file\", filename = \"data.csv\"):\n",
    "    csv = df.to_csv()\n",
    "    b64 = base64.b64encode(csv.encode())\n",
    "    payload = b64.decode()\n",
    "    html = '<a download=\"{filename}\" href=\"data:text/csv;base64,{payload}\" target=\"_blank\">{title}</a>'\n",
    "    html = html.format(payload=payload,title=title,filename=filename)\n",
    "    return HTML(html)\n"
   ]
  },
  {
   "cell_type": "code",
   "execution_count": 46,
   "metadata": {},
   "outputs": [
    {
     "data": {
      "text/html": [
       "<a download=\"data.csv\" href=\"data:text/csv;base64,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\" target=\"_blank\">Download CSV file</a>"
      ],
      "text/plain": [
       "<IPython.core.display.HTML object>"
      ]
     },
     "execution_count": 46,
     "metadata": {},
     "output_type": "execute_result"
    }
   ],
   "source": [
    " create_download_link(output)"
   ]
  },
  {
   "cell_type": "code",
   "execution_count": null,
   "metadata": {},
   "outputs": [],
   "source": []
  }
 ],
 "metadata": {
  "kernelspec": {
   "display_name": "Python 3",
   "language": "python",
   "name": "python3"
  },
  "language_info": {
   "codemirror_mode": {
    "name": "ipython",
    "version": 3
   },
   "file_extension": ".py",
   "mimetype": "text/x-python",
   "name": "python",
   "nbconvert_exporter": "python",
   "pygments_lexer": "ipython3",
   "version": "3.8.1"
  }
 },
 "nbformat": 4,
 "nbformat_minor": 4
}
